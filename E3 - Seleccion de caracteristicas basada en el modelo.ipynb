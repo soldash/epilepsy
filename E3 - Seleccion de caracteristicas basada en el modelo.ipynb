{
 "cells": [
  {
   "cell_type": "code",
   "execution_count": 1,
   "id": "32e5cc13",
   "metadata": {},
   "outputs": [],
   "source": [
    "import pandas as pd\n",
    "import datetime as dt\n",
    "from datetime import datetime\n",
    "import matplotlib.pyplot as plt\n",
    "from scipy.signal import find_peaks"
   ]
  },
  {
   "cell_type": "code",
   "execution_count": 2,
   "id": "0446b6e6",
   "metadata": {},
   "outputs": [],
   "source": [
    "mainpath = \"/Users/soldash/Documents/Tesis/python/Datos/Todas/\" #ruta de Carga de los datos\n",
    "filename = \"hurtado_Laura.csv\" #Nombre del archivo a cargar"
   ]
  },
  {
   "cell_type": "code",
   "execution_count": 3,
   "id": "963eabd3",
   "metadata": {
    "scrolled": false
   },
   "outputs": [
    {
     "data": {
      "text/html": [
       "<div>\n",
       "<style scoped>\n",
       "    .dataframe tbody tr th:only-of-type {\n",
       "        vertical-align: middle;\n",
       "    }\n",
       "\n",
       "    .dataframe tbody tr th {\n",
       "        vertical-align: top;\n",
       "    }\n",
       "\n",
       "    .dataframe thead th {\n",
       "        text-align: right;\n",
       "    }\n",
       "</style>\n",
       "<table border=\"1\" class=\"dataframe\">\n",
       "  <thead>\n",
       "    <tr style=\"text-align: right;\">\n",
       "      <th></th>\n",
       "      <th>ECG</th>\n",
       "      <th>Seizure</th>\n",
       "      <th>RRI</th>\n",
       "      <th>SDNN</th>\n",
       "      <th>HR</th>\n",
       "      <th>HR_std</th>\n",
       "      <th>NN50</th>\n",
       "      <th>pNN50</th>\n",
       "      <th>HF</th>\n",
       "      <th>LF</th>\n",
       "      <th>Total_power</th>\n",
       "      <th>LF/HF</th>\n",
       "    </tr>\n",
       "  </thead>\n",
       "  <tbody>\n",
       "    <tr>\n",
       "      <th>ECG</th>\n",
       "      <td>1.000000</td>\n",
       "      <td>-0.001818</td>\n",
       "      <td>-0.113176</td>\n",
       "      <td>0.055790</td>\n",
       "      <td>0.022075</td>\n",
       "      <td>-0.003401</td>\n",
       "      <td>0.055806</td>\n",
       "      <td>0.051671</td>\n",
       "      <td>0.023209</td>\n",
       "      <td>0.024210</td>\n",
       "      <td>0.017549</td>\n",
       "      <td>0.000022</td>\n",
       "    </tr>\n",
       "    <tr>\n",
       "      <th>Seizure</th>\n",
       "      <td>-0.001818</td>\n",
       "      <td>1.000000</td>\n",
       "      <td>0.031045</td>\n",
       "      <td>-0.200957</td>\n",
       "      <td>-0.164398</td>\n",
       "      <td>-0.211445</td>\n",
       "      <td>-0.076892</td>\n",
       "      <td>-0.077803</td>\n",
       "      <td>-0.444180</td>\n",
       "      <td>-0.421211</td>\n",
       "      <td>-0.429597</td>\n",
       "      <td>-0.071039</td>\n",
       "    </tr>\n",
       "    <tr>\n",
       "      <th>RRI</th>\n",
       "      <td>-0.113176</td>\n",
       "      <td>0.031045</td>\n",
       "      <td>1.000000</td>\n",
       "      <td>0.089782</td>\n",
       "      <td>-0.279421</td>\n",
       "      <td>-0.071281</td>\n",
       "      <td>0.135392</td>\n",
       "      <td>0.147740</td>\n",
       "      <td>-0.035806</td>\n",
       "      <td>-0.067241</td>\n",
       "      <td>-0.057029</td>\n",
       "      <td>-0.057750</td>\n",
       "    </tr>\n",
       "    <tr>\n",
       "      <th>SDNN</th>\n",
       "      <td>0.055790</td>\n",
       "      <td>-0.200957</td>\n",
       "      <td>0.089782</td>\n",
       "      <td>1.000000</td>\n",
       "      <td>0.131034</td>\n",
       "      <td>0.292331</td>\n",
       "      <td>0.927271</td>\n",
       "      <td>0.925832</td>\n",
       "      <td>0.618277</td>\n",
       "      <td>0.605144</td>\n",
       "      <td>0.574587</td>\n",
       "      <td>-0.164835</td>\n",
       "    </tr>\n",
       "    <tr>\n",
       "      <th>HR</th>\n",
       "      <td>0.022075</td>\n",
       "      <td>-0.164398</td>\n",
       "      <td>-0.279421</td>\n",
       "      <td>0.131034</td>\n",
       "      <td>1.000000</td>\n",
       "      <td>0.438700</td>\n",
       "      <td>0.004787</td>\n",
       "      <td>-0.052125</td>\n",
       "      <td>0.306242</td>\n",
       "      <td>0.315926</td>\n",
       "      <td>0.297899</td>\n",
       "      <td>0.015657</td>\n",
       "    </tr>\n",
       "    <tr>\n",
       "      <th>HR_std</th>\n",
       "      <td>-0.003401</td>\n",
       "      <td>-0.211445</td>\n",
       "      <td>-0.071281</td>\n",
       "      <td>0.292331</td>\n",
       "      <td>0.438700</td>\n",
       "      <td>1.000000</td>\n",
       "      <td>0.208439</td>\n",
       "      <td>0.199381</td>\n",
       "      <td>0.506514</td>\n",
       "      <td>0.493406</td>\n",
       "      <td>0.498264</td>\n",
       "      <td>-0.134215</td>\n",
       "    </tr>\n",
       "    <tr>\n",
       "      <th>NN50</th>\n",
       "      <td>0.055806</td>\n",
       "      <td>-0.076892</td>\n",
       "      <td>0.135392</td>\n",
       "      <td>0.927271</td>\n",
       "      <td>0.004787</td>\n",
       "      <td>0.208439</td>\n",
       "      <td>1.000000</td>\n",
       "      <td>0.983992</td>\n",
       "      <td>0.455233</td>\n",
       "      <td>0.451669</td>\n",
       "      <td>0.408821</td>\n",
       "      <td>-0.172817</td>\n",
       "    </tr>\n",
       "    <tr>\n",
       "      <th>pNN50</th>\n",
       "      <td>0.051671</td>\n",
       "      <td>-0.077803</td>\n",
       "      <td>0.147740</td>\n",
       "      <td>0.925832</td>\n",
       "      <td>-0.052125</td>\n",
       "      <td>0.199381</td>\n",
       "      <td>0.983992</td>\n",
       "      <td>1.000000</td>\n",
       "      <td>0.442063</td>\n",
       "      <td>0.424983</td>\n",
       "      <td>0.394293</td>\n",
       "      <td>-0.183040</td>\n",
       "    </tr>\n",
       "    <tr>\n",
       "      <th>HF</th>\n",
       "      <td>0.023209</td>\n",
       "      <td>-0.444180</td>\n",
       "      <td>-0.035806</td>\n",
       "      <td>0.618277</td>\n",
       "      <td>0.306242</td>\n",
       "      <td>0.506514</td>\n",
       "      <td>0.455233</td>\n",
       "      <td>0.442063</td>\n",
       "      <td>1.000000</td>\n",
       "      <td>0.942033</td>\n",
       "      <td>0.975396</td>\n",
       "      <td>-0.171373</td>\n",
       "    </tr>\n",
       "    <tr>\n",
       "      <th>LF</th>\n",
       "      <td>0.024210</td>\n",
       "      <td>-0.421211</td>\n",
       "      <td>-0.067241</td>\n",
       "      <td>0.605144</td>\n",
       "      <td>0.315926</td>\n",
       "      <td>0.493406</td>\n",
       "      <td>0.451669</td>\n",
       "      <td>0.424983</td>\n",
       "      <td>0.942033</td>\n",
       "      <td>1.000000</td>\n",
       "      <td>0.964342</td>\n",
       "      <td>-0.096480</td>\n",
       "    </tr>\n",
       "    <tr>\n",
       "      <th>Total_power</th>\n",
       "      <td>0.017549</td>\n",
       "      <td>-0.429597</td>\n",
       "      <td>-0.057029</td>\n",
       "      <td>0.574587</td>\n",
       "      <td>0.297899</td>\n",
       "      <td>0.498264</td>\n",
       "      <td>0.408821</td>\n",
       "      <td>0.394293</td>\n",
       "      <td>0.975396</td>\n",
       "      <td>0.964342</td>\n",
       "      <td>1.000000</td>\n",
       "      <td>-0.129612</td>\n",
       "    </tr>\n",
       "    <tr>\n",
       "      <th>LF/HF</th>\n",
       "      <td>0.000022</td>\n",
       "      <td>-0.071039</td>\n",
       "      <td>-0.057750</td>\n",
       "      <td>-0.164835</td>\n",
       "      <td>0.015657</td>\n",
       "      <td>-0.134215</td>\n",
       "      <td>-0.172817</td>\n",
       "      <td>-0.183040</td>\n",
       "      <td>-0.171373</td>\n",
       "      <td>-0.096480</td>\n",
       "      <td>-0.129612</td>\n",
       "      <td>1.000000</td>\n",
       "    </tr>\n",
       "  </tbody>\n",
       "</table>\n",
       "</div>"
      ],
      "text/plain": [
       "                  ECG   Seizure       RRI      SDNN        HR    HR_std  \\\n",
       "ECG          1.000000 -0.001818 -0.113176  0.055790  0.022075 -0.003401   \n",
       "Seizure     -0.001818  1.000000  0.031045 -0.200957 -0.164398 -0.211445   \n",
       "RRI         -0.113176  0.031045  1.000000  0.089782 -0.279421 -0.071281   \n",
       "SDNN         0.055790 -0.200957  0.089782  1.000000  0.131034  0.292331   \n",
       "HR           0.022075 -0.164398 -0.279421  0.131034  1.000000  0.438700   \n",
       "HR_std      -0.003401 -0.211445 -0.071281  0.292331  0.438700  1.000000   \n",
       "NN50         0.055806 -0.076892  0.135392  0.927271  0.004787  0.208439   \n",
       "pNN50        0.051671 -0.077803  0.147740  0.925832 -0.052125  0.199381   \n",
       "HF           0.023209 -0.444180 -0.035806  0.618277  0.306242  0.506514   \n",
       "LF           0.024210 -0.421211 -0.067241  0.605144  0.315926  0.493406   \n",
       "Total_power  0.017549 -0.429597 -0.057029  0.574587  0.297899  0.498264   \n",
       "LF/HF        0.000022 -0.071039 -0.057750 -0.164835  0.015657 -0.134215   \n",
       "\n",
       "                 NN50     pNN50        HF        LF  Total_power     LF/HF  \n",
       "ECG          0.055806  0.051671  0.023209  0.024210     0.017549  0.000022  \n",
       "Seizure     -0.076892 -0.077803 -0.444180 -0.421211    -0.429597 -0.071039  \n",
       "RRI          0.135392  0.147740 -0.035806 -0.067241    -0.057029 -0.057750  \n",
       "SDNN         0.927271  0.925832  0.618277  0.605144     0.574587 -0.164835  \n",
       "HR           0.004787 -0.052125  0.306242  0.315926     0.297899  0.015657  \n",
       "HR_std       0.208439  0.199381  0.506514  0.493406     0.498264 -0.134215  \n",
       "NN50         1.000000  0.983992  0.455233  0.451669     0.408821 -0.172817  \n",
       "pNN50        0.983992  1.000000  0.442063  0.424983     0.394293 -0.183040  \n",
       "HF           0.455233  0.442063  1.000000  0.942033     0.975396 -0.171373  \n",
       "LF           0.451669  0.424983  0.942033  1.000000     0.964342 -0.096480  \n",
       "Total_power  0.408821  0.394293  0.975396  0.964342     1.000000 -0.129612  \n",
       "LF/HF       -0.172817 -0.183040 -0.171373 -0.096480    -0.129612  1.000000  "
      ]
     },
     "execution_count": 3,
     "metadata": {},
     "output_type": "execute_result"
    }
   ],
   "source": [
    "data = pd.read_csv(mainpath+filename, sep=\",\")\n",
    "data.corr()"
   ]
  },
  {
   "cell_type": "code",
   "execution_count": 18,
   "id": "64f65f02",
   "metadata": {},
   "outputs": [
    {
     "data": {
      "text/plain": [
       "<matplotlib.image.AxesImage at 0x12fe3f910>"
      ]
     },
     "execution_count": 18,
     "metadata": {},
     "output_type": "execute_result"
    },
    {
     "data": {
      "image/png": "[encoded data removed]",
      "text/plain": [
       "<Figure size 345.6x345.6 with 1 Axes>"
      ]
     },
     "metadata": {
      "needs_background": "light"
     },
     "output_type": "display_data"
    }
   ],
   "source": [
    "plt.matshow(data.corr())"
   ]
  },
  {
   "cell_type": "code",
   "execution_count": 4,
   "id": "ef060d15",
   "metadata": {},
   "outputs": [
    {
     "data": {
      "text/plain": [
       "(1947, 13)"
      ]
     },
     "execution_count": 4,
     "metadata": {},
     "output_type": "execute_result"
    }
   ],
   "source": [
    "data.shape"
   ]
  },
  {
   "cell_type": "markdown",
   "id": "b729ae84",
   "metadata": {},
   "source": [
    "## Selección de caracteristicas\n",
    "\n",
    "Hay varias técnicas que puedes utilizar para seleccionar las características más importantes para tu problema de predicción. Algunas opciones populares incluyen:\n",
    "\n",
    "* **Selección de características basada en el modelo:** estas técnicas entrenan varios modelos utilizando diferentes combinaciones de características y luego seleccionan las características que resultan más útiles para el problema de predicción. Algunos ejemplos de estas técnicas incluyen Recursive Feature Elimination (RFE) y Wrapper Methods.\n",
    "\n",
    "* **Selección de características basada en la importancia de las características:** estas técnicas entrenan un modelo utilizando diferentes subconjuntos de características y luego calculan la importancia de cada característica en función de cómo afecta al rendimiento del modelo. Algunos ejemplos de estas técnicas incluyen la puntuación de importancia de características de Random Forest y la importancia de las características en gradient boosting.\n",
    "\n",
    "* **Selección de características basada en el filtro:** estas técnicas evalúan cada característica individualmente en función de alguna medida de importancia y luego seleccionan las características más importantes. Algunos ejemplos de estas técnicas incluyen la correlación de Pearson y el coeficiente de información mutua.\n",
    "\n",
    "Para elegir la técnica más adecuada para tu problema, es importante considerar el tipo y la cantidad de datos disponibles, así como el tipo de modelo que deseas utilizar. Algunas técnicas funcionan mejor con ciertos tipos de modelos o con conjuntos de datos de ciertas características.\n"
   ]
  },
  {
   "cell_type": "markdown",
   "id": "a8822501",
   "metadata": {},
   "source": [
    "## Selección de características basada en el modelo\n",
    "\n",
    "Existen muchos modelos diferentes que se pueden utilizar para implementar la selección de características en Python. Algunos de los modelos más comunes que se pueden utilizar son:\n",
    "\n",
    "* Regresión logística\n",
    "* Random Forest\n",
    "* AdaBoost\n",
    "* Gradient Boosting\n",
    "* K-Nearest Neighbors\n",
    "* Naive Bayes\n",
    "\n",
    "### Arbol de decisión\n",
    "\n",
    "a continuación se seleccionaron las caracterisitcas más importantes para un arbol de decisión con todas las muestras de todos los pacientes"
   ]
  },
  {
   "cell_type": "code",
   "execution_count": 16,
   "id": "2e10fb1e",
   "metadata": {},
   "outputs": [
    {
     "name": "stdout",
     "output_type": "stream",
     "text": [
      "[False False False False False False  True False False False]\n",
      "[10  7  3  2  8  9  1  4  6  5]\n",
      "['HF']\n",
      "RRI: 10\n",
      "SDNN: 7\n",
      "HR: 3\n",
      "HR_std: 2\n",
      "NN50: 8\n",
      "pNN50: 9\n",
      "HF: 1\n",
      "LF: 4\n",
      "Total_power: 6\n",
      "LF/HF: 5\n"
     ]
    }
   ],
   "source": [
    "from sklearn.svm import SVC\n",
    "from sklearn.feature_selection import RFE\n",
    "from sklearn.model_selection import train_test_split\n",
    "from sklearn.tree import DecisionTreeClassifier\n",
    "\n",
    "# Carga tus datos y divide en conjuntos de entrenamiento y prueba\n",
    "data_train, data_test = train_test_split(data , test_size=0.3, random_state=42)\n",
    "#X = data_train[['RRI', 'SDNN', 'HR','HR_std','NN50','pNN50','HF','LF','Total_power','LF/HF']]\n",
    "X = data_train[['RRI', 'SDNN', 'HR','HR_std','NN50','pNN50','HF','LF','Total_power','LF/HF']]\n",
    "Y = data_train['Seizure']\n",
    "\n",
    "feature_names = X.columns\n",
    "\n",
    "# Crea un modelo SVM\n",
    "model = DecisionTreeClassifier()\n",
    "\n",
    "# Crea un objeto RFE y selecciona las 5 características más importantes\n",
    "rfe = RFE(model, n_features_to_select=1)\n",
    "rfe = rfe.fit(X, Y)\n",
    "\n",
    "# Imprime los índices de las características seleccionadas\n",
    "print(rfe.support_)\n",
    "\n",
    "# Imprime la puntuación de importancia de cada característica\n",
    "print(rfe.ranking_)\n",
    "\n",
    "# Imprime los nombres de las características seleccionadas\n",
    "print([feature_names[i] for i in range(len(feature_names)) if rfe.support_[i]])\n",
    "\n",
    "# Imprime el ranking y el nombre de cada característica\n",
    "for i in range(len(feature_names)):\n",
    "    print(f\"{feature_names[i]}: {rfe.ranking_[i]}\")\n",
    "\n",
    "# Imprime el ranking y el nombre de cada característica\n",
    "sorted_features = [feature for _, feature in sorted(zip(rfe.ranking_, feature_names))]\n",
    "sorted_rankings = sorted(rfe.ranking_)"
   ]
  },
  {
   "cell_type": "markdown",
   "id": "d65ef010",
   "metadata": {},
   "source": [
    "### Arbol de decisión\n",
    "Unicamente usando a leguizamon_Laura.csv"
   ]
  },
  {
   "cell_type": "code",
   "execution_count": 17,
   "id": "f2d540d7",
   "metadata": {
    "scrolled": true
   },
   "outputs": [
    {
     "name": "stdout",
     "output_type": "stream",
     "text": [
      "[False False False False False False False  True False False]\n",
      "[ 6  7  3  8 10  5  2  1  4  9]\n",
      "['LF']\n",
      "RRI: 6\n",
      "SDNN: 7\n",
      "HR: 3\n",
      "HR_std: 8\n",
      "NN50: 10\n",
      "pNN50: 5\n",
      "HF: 2\n",
      "LF: 1\n",
      "Total_power: 4\n",
      "LF/HF: 9\n"
     ]
    }
   ],
   "source": [
    "from sklearn.svm import SVC\n",
    "from sklearn.feature_selection import RFE\n",
    "from sklearn.model_selection import train_test_split\n",
    "from sklearn.tree import DecisionTreeClassifier\n",
    "\n",
    "\n",
    "data1 = pd.read_csv(mainpath+\"leguizamon_Laura.csv\", sep=\",\")\n",
    "\n",
    "# Carga tus datos y divide en conjuntos de entrenamiento y prueba\n",
    "data_train, data_test = train_test_split(data1 , test_size=0.3, random_state=42)\n",
    "\n",
    "X = data_train[['RRI', 'SDNN', 'HR','HR_std','NN50','pNN50','HF','LF','Total_power','LF/HF']]\n",
    "Y = data_train['Seizure']\n",
    "\n",
    "feature_names = X.columns\n",
    "\n",
    "# Crea un modelo SVM\n",
    "model = DecisionTreeClassifier()\n",
    "\n",
    "# Crea un objeto RFE y selecciona las 5 características más importantes\n",
    "rfe = RFE(model, n_features_to_select=1)\n",
    "rfe = rfe.fit(X, Y)\n",
    "\n",
    "# Imprime los índices de las características seleccionadas\n",
    "print(rfe.support_)\n",
    "\n",
    "# Imprime la puntuación de importancia de cada característica\n",
    "print(rfe.ranking_)\n",
    "\n",
    "# Imprime los nombres de las características seleccionadas\n",
    "print([feature_names[i] for i in range(len(feature_names)) if rfe.support_[i]])\n",
    "\n",
    "# Imprime el ranking y el nombre de cada característica\n",
    "for i in range(len(feature_names)):\n",
    "    print(f\"{feature_names[i]}: {rfe.ranking_[i]}\")\n",
    "\n",
    "# Imprime el ranking y el nombre de cada característica\n",
    "sorted_features = [feature for _, feature in sorted(zip(rfe.ranking_, feature_names))]\n",
    "sorted_rankings = sorted(rfe.ranking_)"
   ]
  },
  {
   "cell_type": "markdown",
   "id": "20a98377",
   "metadata": {},
   "source": [
    "### Regresión logistica\n",
    "\n",
    "**get_dummies():** Este método toma una columna del DataFrame y devuelve un DataFrame con tantas columnas dummy como clases haya en la columna original. Cada columna dummy representa una clase y tendrá un valor de 1 si el registro correspondiente pertenece a esa clase y un valor de 0 en caso contrario.\n",
    "\n",
    "columna llamada Seizure que tiene 3 clases: 1 para periodo normal, 2 para periodo preictal y 3 para periodo ictal. Aquí hay un ejemplo de cómo puedes obtener valores dummy de esta columna y asignarlos a una nueva variable llamada dummy_df:"
   ]
  },
  {
   "cell_type": "code",
   "execution_count": 59,
   "id": "d889a68d",
   "metadata": {
    "scrolled": true
   },
   "outputs": [
    {
     "data": {
      "text/plain": [
       "(array([649.,   0.,   0.,   0.,   0., 649.,   0.,   0.,   0., 649.]),\n",
       " array([0. , 0.2, 0.4, 0.6, 0.8, 1. , 1.2, 1.4, 1.6, 1.8, 2. ]),\n",
       " <BarContainer object of 10 artists>)"
      ]
     },
     "execution_count": 59,
     "metadata": {},
     "output_type": "execute_result"
    },
    {
     "data": {
      "image/png": "[encoded data removed]",
      "text/plain": [
       "<Figure size 432x288 with 1 Axes>"
      ]
     },
     "metadata": {
      "needs_background": "light"
     },
     "output_type": "display_data"
    }
   ],
   "source": [
    "plt.hist(data[\"Seizure\"])"
   ]
  },
  {
   "cell_type": "code",
   "execution_count": 60,
   "id": "ae092e2c",
   "metadata": {},
   "outputs": [
    {
     "data": {
      "text/html": [
       "<div>\n",
       "<style scoped>\n",
       "    .dataframe tbody tr th:only-of-type {\n",
       "        vertical-align: middle;\n",
       "    }\n",
       "\n",
       "    .dataframe tbody tr th {\n",
       "        vertical-align: top;\n",
       "    }\n",
       "\n",
       "    .dataframe thead th {\n",
       "        text-align: right;\n",
       "    }\n",
       "</style>\n",
       "<table border=\"1\" class=\"dataframe\">\n",
       "  <thead>\n",
       "    <tr style=\"text-align: right;\">\n",
       "      <th></th>\n",
       "      <th>ECG</th>\n",
       "      <th>Time</th>\n",
       "      <th>RRI</th>\n",
       "      <th>SDNN</th>\n",
       "      <th>HR</th>\n",
       "      <th>HR_std</th>\n",
       "      <th>NN50</th>\n",
       "      <th>pNN50</th>\n",
       "      <th>HF</th>\n",
       "      <th>LF</th>\n",
       "      <th>Total_power</th>\n",
       "      <th>LF/HF</th>\n",
       "      <th>Seizure_0</th>\n",
       "      <th>Seizure_1</th>\n",
       "      <th>Seizure_2</th>\n",
       "    </tr>\n",
       "  </thead>\n",
       "  <tbody>\n",
       "    <tr>\n",
       "      <th>0</th>\n",
       "      <td>70.58</td>\n",
       "      <td>2022-07-01 13:25:21.600</td>\n",
       "      <td>250</td>\n",
       "      <td>149.516015</td>\n",
       "      <td>93</td>\n",
       "      <td>1.523502</td>\n",
       "      <td>23</td>\n",
       "      <td>54.761905</td>\n",
       "      <td>2556.165206</td>\n",
       "      <td>2577.314136</td>\n",
       "      <td>8462.813786</td>\n",
       "      <td>1.008274</td>\n",
       "      <td>0</td>\n",
       "      <td>0</td>\n",
       "      <td>1</td>\n",
       "    </tr>\n",
       "    <tr>\n",
       "      <th>1</th>\n",
       "      <td>-69.05</td>\n",
       "      <td>2022-07-01 13:25:22.600</td>\n",
       "      <td>734</td>\n",
       "      <td>149.031722</td>\n",
       "      <td>94</td>\n",
       "      <td>1.619200</td>\n",
       "      <td>22</td>\n",
       "      <td>52.380952</td>\n",
       "      <td>3735.572625</td>\n",
       "      <td>2480.569991</td>\n",
       "      <td>9447.445421</td>\n",
       "      <td>0.664040</td>\n",
       "      <td>0</td>\n",
       "      <td>0</td>\n",
       "      <td>1</td>\n",
       "    </tr>\n",
       "    <tr>\n",
       "      <th>2</th>\n",
       "      <td>-659.21</td>\n",
       "      <td>2022-07-01 13:25:19.200</td>\n",
       "      <td>810</td>\n",
       "      <td>148.800724</td>\n",
       "      <td>94</td>\n",
       "      <td>1.151791</td>\n",
       "      <td>23</td>\n",
       "      <td>53.488372</td>\n",
       "      <td>2874.086866</td>\n",
       "      <td>2071.575493</td>\n",
       "      <td>8780.928966</td>\n",
       "      <td>0.720777</td>\n",
       "      <td>0</td>\n",
       "      <td>0</td>\n",
       "      <td>1</td>\n",
       "    </tr>\n",
       "    <tr>\n",
       "      <th>3</th>\n",
       "      <td>-112.18</td>\n",
       "      <td>2022-07-01 13:25:12.600</td>\n",
       "      <td>404</td>\n",
       "      <td>198.309652</td>\n",
       "      <td>93</td>\n",
       "      <td>0.686483</td>\n",
       "      <td>23</td>\n",
       "      <td>58.974359</td>\n",
       "      <td>3566.845519</td>\n",
       "      <td>1705.107239</td>\n",
       "      <td>9668.614265</td>\n",
       "      <td>0.478043</td>\n",
       "      <td>0</td>\n",
       "      <td>0</td>\n",
       "      <td>1</td>\n",
       "    </tr>\n",
       "    <tr>\n",
       "      <th>4</th>\n",
       "      <td>-43.00</td>\n",
       "      <td>2022-07-01 13:25:18.200</td>\n",
       "      <td>468</td>\n",
       "      <td>150.526518</td>\n",
       "      <td>93</td>\n",
       "      <td>0.991131</td>\n",
       "      <td>22</td>\n",
       "      <td>52.380952</td>\n",
       "      <td>3284.759258</td>\n",
       "      <td>1958.875844</td>\n",
       "      <td>9271.291105</td>\n",
       "      <td>0.596353</td>\n",
       "      <td>0</td>\n",
       "      <td>0</td>\n",
       "      <td>1</td>\n",
       "    </tr>\n",
       "    <tr>\n",
       "      <th>...</th>\n",
       "      <td>...</td>\n",
       "      <td>...</td>\n",
       "      <td>...</td>\n",
       "      <td>...</td>\n",
       "      <td>...</td>\n",
       "      <td>...</td>\n",
       "      <td>...</td>\n",
       "      <td>...</td>\n",
       "      <td>...</td>\n",
       "      <td>...</td>\n",
       "      <td>...</td>\n",
       "      <td>...</td>\n",
       "      <td>...</td>\n",
       "      <td>...</td>\n",
       "      <td>...</td>\n",
       "    </tr>\n",
       "    <tr>\n",
       "      <th>1942</th>\n",
       "      <td>122.60</td>\n",
       "      <td>2022-07-01 18:11:47.800</td>\n",
       "      <td>604</td>\n",
       "      <td>183.853481</td>\n",
       "      <td>103</td>\n",
       "      <td>2.351215</td>\n",
       "      <td>18</td>\n",
       "      <td>40.000000</td>\n",
       "      <td>14533.503377</td>\n",
       "      <td>15609.277327</td>\n",
       "      <td>56049.232996</td>\n",
       "      <td>1.074020</td>\n",
       "      <td>1</td>\n",
       "      <td>0</td>\n",
       "      <td>0</td>\n",
       "    </tr>\n",
       "    <tr>\n",
       "      <th>1943</th>\n",
       "      <td>164.08</td>\n",
       "      <td>2022-07-01 18:11:30.400</td>\n",
       "      <td>1026</td>\n",
       "      <td>307.392074</td>\n",
       "      <td>107</td>\n",
       "      <td>0.709071</td>\n",
       "      <td>35</td>\n",
       "      <td>71.428571</td>\n",
       "      <td>17245.644872</td>\n",
       "      <td>20540.276750</td>\n",
       "      <td>69540.668127</td>\n",
       "      <td>1.191041</td>\n",
       "      <td>1</td>\n",
       "      <td>0</td>\n",
       "      <td>0</td>\n",
       "    </tr>\n",
       "    <tr>\n",
       "      <th>1944</th>\n",
       "      <td>1390.51</td>\n",
       "      <td>2022-07-01 18:11:25.400</td>\n",
       "      <td>328</td>\n",
       "      <td>311.652971</td>\n",
       "      <td>107</td>\n",
       "      <td>0.802645</td>\n",
       "      <td>31</td>\n",
       "      <td>65.957447</td>\n",
       "      <td>17838.388848</td>\n",
       "      <td>21418.651484</td>\n",
       "      <td>72044.894967</td>\n",
       "      <td>1.200705</td>\n",
       "      <td>1</td>\n",
       "      <td>0</td>\n",
       "      <td>0</td>\n",
       "    </tr>\n",
       "    <tr>\n",
       "      <th>1945</th>\n",
       "      <td>155.50</td>\n",
       "      <td>2022-07-01 18:11:17.800</td>\n",
       "      <td>640</td>\n",
       "      <td>256.876551</td>\n",
       "      <td>107</td>\n",
       "      <td>1.118695</td>\n",
       "      <td>28</td>\n",
       "      <td>54.901961</td>\n",
       "      <td>20598.824092</td>\n",
       "      <td>26994.734193</td>\n",
       "      <td>86458.078855</td>\n",
       "      <td>1.310499</td>\n",
       "      <td>1</td>\n",
       "      <td>0</td>\n",
       "      <td>0</td>\n",
       "    </tr>\n",
       "    <tr>\n",
       "      <th>1946</th>\n",
       "      <td>851.77</td>\n",
       "      <td>2022-07-01 18:11:41.200</td>\n",
       "      <td>558</td>\n",
       "      <td>266.656679</td>\n",
       "      <td>105</td>\n",
       "      <td>2.168101</td>\n",
       "      <td>23</td>\n",
       "      <td>53.488372</td>\n",
       "      <td>15427.152508</td>\n",
       "      <td>17200.609738</td>\n",
       "      <td>60291.002891</td>\n",
       "      <td>1.114957</td>\n",
       "      <td>1</td>\n",
       "      <td>0</td>\n",
       "      <td>0</td>\n",
       "    </tr>\n",
       "  </tbody>\n",
       "</table>\n",
       "<p>1947 rows × 15 columns</p>\n",
       "</div>"
      ],
      "text/plain": [
       "          ECG                     Time   RRI        SDNN   HR    HR_std  NN50  \\\n",
       "0       70.58  2022-07-01 13:25:21.600   250  149.516015   93  1.523502    23   \n",
       "1      -69.05  2022-07-01 13:25:22.600   734  149.031722   94  1.619200    22   \n",
       "2     -659.21  2022-07-01 13:25:19.200   810  148.800724   94  1.151791    23   \n",
       "3     -112.18  2022-07-01 13:25:12.600   404  198.309652   93  0.686483    23   \n",
       "4      -43.00  2022-07-01 13:25:18.200   468  150.526518   93  0.991131    22   \n",
       "...       ...                      ...   ...         ...  ...       ...   ...   \n",
       "1942   122.60  2022-07-01 18:11:47.800   604  183.853481  103  2.351215    18   \n",
       "1943   164.08  2022-07-01 18:11:30.400  1026  307.392074  107  0.709071    35   \n",
       "1944  1390.51  2022-07-01 18:11:25.400   328  311.652971  107  0.802645    31   \n",
       "1945   155.50  2022-07-01 18:11:17.800   640  256.876551  107  1.118695    28   \n",
       "1946   851.77  2022-07-01 18:11:41.200   558  266.656679  105  2.168101    23   \n",
       "\n",
       "          pNN50            HF            LF   Total_power     LF/HF  \\\n",
       "0     54.761905   2556.165206   2577.314136   8462.813786  1.008274   \n",
       "1     52.380952   3735.572625   2480.569991   9447.445421  0.664040   \n",
       "2     53.488372   2874.086866   2071.575493   8780.928966  0.720777   \n",
       "3     58.974359   3566.845519   1705.107239   9668.614265  0.478043   \n",
       "4     52.380952   3284.759258   1958.875844   9271.291105  0.596353   \n",
       "...         ...           ...           ...           ...       ...   \n",
       "1942  40.000000  14533.503377  15609.277327  56049.232996  1.074020   \n",
       "1943  71.428571  17245.644872  20540.276750  69540.668127  1.191041   \n",
       "1944  65.957447  17838.388848  21418.651484  72044.894967  1.200705   \n",
       "1945  54.901961  20598.824092  26994.734193  86458.078855  1.310499   \n",
       "1946  53.488372  15427.152508  17200.609738  60291.002891  1.114957   \n",
       "\n",
       "      Seizure_0  Seizure_1  Seizure_2  \n",
       "0             0          0          1  \n",
       "1             0          0          1  \n",
       "2             0          0          1  \n",
       "3             0          0          1  \n",
       "4             0          0          1  \n",
       "...         ...        ...        ...  \n",
       "1942          1          0          0  \n",
       "1943          1          0          0  \n",
       "1944          1          0          0  \n",
       "1945          1          0          0  \n",
       "1946          1          0          0  \n",
       "\n",
       "[1947 rows x 15 columns]"
      ]
     },
     "execution_count": 60,
     "metadata": {},
     "output_type": "execute_result"
    }
   ],
   "source": [
    "dummy_df = pd.get_dummies(data, columns=['Seizure'])\n",
    "dummy_df"
   ]
  },
  {
   "cell_type": "code",
   "execution_count": 61,
   "id": "90346efb",
   "metadata": {},
   "outputs": [
    {
     "name": "stdout",
     "output_type": "stream",
     "text": [
      "Tamaño de muestras preictales :649\n"
     ]
    },
    {
     "data": {
      "text/plain": [
       "(array([649.,   0.,   0.,   0.,   0.,   0.,   0.,   0.,   0., 649.]),\n",
       " array([0. , 0.1, 0.2, 0.3, 0.4, 0.5, 0.6, 0.7, 0.8, 0.9, 1. ]),\n",
       " <BarContainer object of 10 artists>)"
      ]
     },
     "execution_count": 61,
     "metadata": {},
     "output_type": "execute_result"
    },
    {
     "data": {
      "image/png": "[encoded data removed]",
      "text/plain": [
       "<Figure size 432x288 with 1 Axes>"
      ]
     },
     "metadata": {
      "needs_background": "light"
     },
     "output_type": "display_data"
    }
   ],
   "source": [
    "#Igualar muestras\n",
    "sample_size = dummy_df[dummy_df[\"Seizure_1\"] == 1].shape[0]\n",
    "print(\"Tamaño de muestras preictales :\"+ str(sample_size))\n",
    "\n",
    "preictal = dummy_df[dummy_df[\"Seizure_1\"] == 1]\n",
    "other = dummy_df[dummy_df[\"Seizure_1\"] == 0]\n",
    "\n",
    "preictal_data = preictal.sample(n= sample_size)\n",
    "other_data = other.sample(n= sample_size)\n",
    "    \n",
    "Sample = pd.concat([preictal_data, other_data], axis = 0)\n",
    "\n",
    "plt.hist(Sample[\"Seizure_1\"])"
   ]
  },
  {
   "cell_type": "markdown",
   "id": "93ddd4f7",
   "metadata": {},
   "source": [
    "Para hacer la selección de características utilizando la regresión logística en Python, puedes utilizar el módulo sklearn.feature_selection y el atributo coef_ del modelo de regresión logística.\n",
    "\n",
    "El atributo **coef_** de un modelo de regresión logística es un array que contiene los coeficientes de regresión para cada característica. Los coeficientes de regresión son una medida de la importancia de cada característica para el modelo. Las características con coeficientes más grandes tienen un mayor impacto en la predicción, mientras que las características con coeficientes más pequeños tienen un impacto menor o nulo.\n",
    "\n",
    "Para seleccionar las características más importantes utilizando la regresión logística, puedes utilizar el método `SelectFromModel`del módulo `sklearn.feature_selection`. Este método toma un modelo de regresión logística y un umbral de selección como argumentos, y devuelve una nueva matriz de características que solo incluye las características cuyos coeficientes son superiores al **umbral de selección**."
   ]
  },
  {
   "cell_type": "markdown",
   "id": "96f6c5e5",
   "metadata": {},
   "source": [
    "**El threshold (umbral)** es un valor que se utiliza para determinar qué características se deben seleccionar en la selección de características. En el ejemplo de código que proporcioné en mi última respuesta, el threshold se establece en 0.25 al crear el objeto SelectFromModel.\n",
    "\n",
    "Cuando se utiliza un modelo para la selección de características, cada característica se asigna una puntuación que representa su importancia para el modelo. El método SelectFromModel utiliza estas puntuaciones para seleccionar solo las características cuyas puntuaciones son superiores al threshold establecido.\n",
    "\n",
    "A continuación, el modelo de regresión logística es utilizado para asignar una puntuación a cada característica. Luego, el objeto SelectFromModel se utiliza para seleccionar solo aquellas características cuyas puntuaciones son superiores a 0.25.\n",
    "\n",
    "Es importante tener en cuenta que el threshold es un valor que se elige arbitrariamente y puede afectar el número y el tipo de características seleccionadas. Por lo general, se pueden probar diferentes valores de threshold para ver qué combinación de características da los mejores resultados para el modelo."
   ]
  },
  {
   "cell_type": "code",
   "execution_count": 43,
   "id": "41c0ac41",
   "metadata": {},
   "outputs": [
    {
     "name": "stdout",
     "output_type": "stream",
     "text": [
      "['NN50', 'LF/HF']\n"
     ]
    }
   ],
   "source": [
    "from sklearn.model_selection import train_test_split\n",
    "from sklearn.feature_selection import SelectFromModel\n",
    "from sklearn.linear_model import LogisticRegression\n",
    "\n",
    "# Carga tus datos y divide en conjuntos de entrenamiento y prueba\n",
    "data_train, data_test = train_test_split(Sample , test_size=0.3, random_state=42)\n",
    "#X = data_train[['RRI', 'SDNN', 'HR','HR_std','NN50','pNN50','HF','LF','Total_power','LF/HF']]\n",
    "X = Sample[['RRI', 'SDNN', 'HR','HR_std','NN50','pNN50','HF','LF','Total_power','LF/HF']]\n",
    "Y = Sample['Seizure_1']\n",
    "\n",
    "feature_names = X.columns\n",
    "\n",
    "# Crea un modelo de regresión logística\n",
    "logistic_regression = LogisticRegression(solver='lbfgs', max_iter=1000)\n",
    "\n",
    "# Ajusta el modelo a tus datos\n",
    "logistic_regression.fit(X, Y)\n",
    "\n",
    "# Crea un objeto SelectFromModel y establece el umbral de selección en 0.25\n",
    "sfm = SelectFromModel(logistic_regression, threshold=0.25)\n",
    "\n",
    "# Ajusta el objeto SelectFromModel a tus datos\n",
    "sfm.fit(X, Y)\n",
    "\n",
    "# Transforma el conjunto de características original utilizando el objeto SelectFromModel\n",
    "X_selected = sfm.transform(X)\n",
    "\n",
    "# Obtiene los nombres de las características seleccionadas\n",
    "selected_feature_names = list(X.columns[sfm.get_support()])\n",
    "\n",
    "# Imprime los nombres de las características seleccionadas\n",
    "print(selected_feature_names)"
   ]
  },
  {
   "cell_type": "code",
   "execution_count": 43,
   "id": "e4e3a153",
   "metadata": {},
   "outputs": [
    {
     "name": "stdout",
     "output_type": "stream",
     "text": [
      "['NN50', 'LF/HF']\n"
     ]
    }
   ],
   "source": [
    "from sklearn.model_selection import train_test_split\n",
    "from sklearn.feature_selection import SelectFromModel\n",
    "from sklearn.linear_model import LogisticRegression\n",
    "\n",
    "# Carga tus datos y divide en conjuntos de entrenamiento y prueba\n",
    "data_train, data_test = train_test_split(Sample , test_size=0.3, random_state=42)\n",
    "#X = data_train[['RRI', 'SDNN', 'HR','HR_std','NN50','pNN50','HF','LF','Total_power','LF/HF']]\n",
    "X = Sample[['RRI', 'SDNN', 'HR','HR_std','NN50','pNN50','HF','LF','Total_power','LF/HF']]\n",
    "Y = Sample['Seizure_1']\n",
    "\n",
    "feature_names = X.columns\n",
    "\n",
    "# Crea un modelo de regresión logística\n",
    "logistic_regression = LogisticRegression(solver='lbfgs', max_iter=1000)\n",
    "\n",
    "# Ajusta el modelo a tus datos\n",
    "logistic_regression.fit(X, Y)\n",
    "\n",
    "# Crea un objeto SelectFromModel y establece el umbral de selección en 0.25\n",
    "sfm = SelectFromModel(logistic_regression, threshold=0.25)\n",
    "\n",
    "# Ajusta el objeto SelectFromModel a tus datos\n",
    "sfm.fit(X, Y)\n",
    "\n",
    "# Transforma el conjunto de características original utilizando el objeto SelectFromModel\n",
    "X_selected = sfm.transform(X)\n",
    "\n",
    "# Obtiene los nombres de las características seleccionadas\n",
    "selected_feature_names = list(X.columns[sfm.get_support()])\n",
    "\n",
    "# Imprime los nombres de las características seleccionadas\n",
    "print(selected_feature_names)"
   ]
  },
  {
   "cell_type": "markdown",
   "id": "f3f8bec9",
   "metadata": {},
   "source": [
    "#### Con las muestras solo para 1 paciente:"
   ]
  },
  {
   "cell_type": "code",
   "execution_count": 82,
   "id": "f563170b",
   "metadata": {
    "scrolled": true
   },
   "outputs": [
    {
     "name": "stdout",
     "output_type": "stream",
     "text": [
      "Tamaño de muestras preictales :593\n",
      "['HR_std', 'LF/HF']\n"
     ]
    },
    {
     "data": {
      "image/png": "[encoded data removed]",
      "text/plain": [
       "<Figure size 432x288 with 1 Axes>"
      ]
     },
     "metadata": {
      "needs_background": "light"
     },
     "output_type": "display_data"
    }
   ],
   "source": [
    "dummy_df1 = pd.get_dummies(data1, columns=['Seizure'])\n",
    "\n",
    "sample_size = dummy_df1[dummy_df1[\"Seizure_1\"] == 1].shape[0]\n",
    "print(\"Tamaño de muestras preictales :\"+ str(sample_size))\n",
    "\n",
    "preictal = dummy_df1[dummy_df1[\"Seizure_1\"] == 1]\n",
    "other = dummy_df1[dummy_df1[\"Seizure_1\"] == 0]\n",
    "\n",
    "preictal_data = preictal.sample(n= sample_size)\n",
    "other_data = other.sample(n= sample_size)\n",
    "    \n",
    "Sample1 = pd.concat([preictal_data, other_data], axis = 0)\n",
    "\n",
    "plt.hist(Sample[\"Seizure_1\"])\n",
    "\n",
    "# Carga tus datos y divide en conjuntos de entrenamiento y prueba\n",
    "data_train, data_test = train_test_split(Sample1 , test_size=0.3, random_state=42)\n",
    "#X = data_train[['RRI', 'SDNN', 'HR','HR_std','NN50','pNN50','HF','LF','Total_power','LF/HF']]\n",
    "X = Sample1[['RRI', 'SDNN', 'HR','HR_std','NN50','pNN50','HF','LF','Total_power','LF/HF']]\n",
    "Y = Sample1['Seizure_1']\n",
    "\n",
    "feature_names = X.columns\n",
    "\n",
    "# Crea un modelo de regresión logística\n",
    "logistic_regression = LogisticRegression(solver='lbfgs', max_iter=1000)\n",
    "\n",
    "# Ajusta el modelo a tus datos\n",
    "logistic_regression.fit(X, Y)\n",
    "\n",
    "# Crea un objeto SelectFromModel y establece el umbral de selección en 0.25\n",
    "sfm = SelectFromModel(logistic_regression, threshold=0.25)\n",
    "\n",
    "# Ajusta el objeto SelectFromModel a tus datos\n",
    "sfm.fit(X, Y)\n",
    "\n",
    "# Transforma el conjunto de características original utilizando el objeto SelectFromModel\n",
    "X_selected = sfm.transform(X)\n",
    "\n",
    "# Obtiene los nombres de las características seleccionadas\n",
    "selected_feature_names = list(X.columns[sfm.get_support()])\n",
    "\n",
    "# Imprime los nombres de las características seleccionadas\n",
    "print(selected_feature_names)"
   ]
  },
  {
   "cell_type": "markdown",
   "id": "2708c15d",
   "metadata": {},
   "source": [
    "### Ramdom forest\n",
    "\n",
    "Se utiliza el método `fit()` del modelo de Random Forest para ajustar el modelo a mis datos, luego creo un objeto `SelectFromModel` y establezco el umbral de selección en 0.25. Luego, utilizo el método `fit()` del objeto `SelectFromModel` para seleccionar las características cuyas importancias son superiores a 0.25. Finalmente, utilizo el método `transform()` para obtener una nueva matriz de características que solo incluye las características seleccionadas.\n"
   ]
  },
  {
   "cell_type": "code",
   "execution_count": 58,
   "id": "29ad1bfd",
   "metadata": {},
   "outputs": [
    {
     "name": "stdout",
     "output_type": "stream",
     "text": [
      "['HR', 'HF', 'Total_power']\n"
     ]
    }
   ],
   "source": [
    "from sklearn.feature_selection import SelectFromModel\n",
    "from sklearn.ensemble import RandomForestClassifier\n",
    "\n",
    "X = data[['RRI', 'SDNN', 'HR','HR_std','NN50','pNN50','HF','LF','Total_power','LF/HF']]\n",
    "y = data['Seizure']\n",
    "\n",
    "# Crea un modelo de Random Forest\n",
    "random_forest = RandomForestClassifier(n_estimators=200)\n",
    "\n",
    "# Ajusta el modelo a tus datos\n",
    "random_forest.fit(X, y)\n",
    "\n",
    "# Crea un objeto SelectFromModel y establece el umbral de selección en 0.25\n",
    "sfm = SelectFromModel(random_forest, threshold=0.13)\n",
    "\n",
    "# Ajusta el objeto SelectFromModel a tus datos\n",
    "sfm.fit(X, y)\n",
    "\n",
    "# Transforma el conjunto de características original utilizando el objeto SelectFromModel\n",
    "X_selected = sfm.transform(X)\n",
    "\n",
    "# Obtiene los nombres de las características seleccionadas\n",
    "selected_feature_names = list(X.columns[sfm.get_support()])\n",
    "\n",
    "# Imprime los nombres de las características seleccionadas\n",
    "print(selected_feature_names)\n"
   ]
  },
  {
   "cell_type": "code",
   "execution_count": 65,
   "id": "926738e6",
   "metadata": {},
   "outputs": [
    {
     "name": "stdout",
     "output_type": "stream",
     "text": [
      "['HR_std', 'HF', 'LF/HF']\n"
     ]
    }
   ],
   "source": [
    "# Usando los valores dummy\n",
    "from sklearn.feature_selection import SelectFromModel\n",
    "from sklearn.ensemble import RandomForestClassifier\n",
    "\n",
    "X = Sample[['RRI', 'SDNN', 'HR','HR_std','NN50','pNN50','HF','LF','Total_power','LF/HF']]\n",
    "y = Sample['Seizure_1']\n",
    "\n",
    "# Crea un modelo de Random Forest\n",
    "random_forest = RandomForestClassifier(n_estimators=100)\n",
    "\n",
    "# Ajusta el modelo a tus datos\n",
    "random_forest.fit(X, y)\n",
    "\n",
    "# Crea un objeto SelectFromModel y establece el umbral de selección en 0.25\n",
    "sfm = SelectFromModel(random_forest, threshold=0.13)\n",
    "\n",
    "# Ajusta el objeto SelectFromModel a tus datos\n",
    "sfm.fit(X, y)\n",
    "\n",
    "# Transforma el conjunto de características original utilizando el objeto SelectFromModel\n",
    "X_selected = sfm.transform(X)\n",
    "\n",
    "# Obtiene los nombres de las características seleccionadas\n",
    "selected_feature_names = list(X.columns[sfm.get_support()])\n",
    "\n",
    "# Imprime los nombres de las características seleccionadas\n",
    "print(selected_feature_names)\n"
   ]
  },
  {
   "cell_type": "code",
   "execution_count": 66,
   "id": "e56e0961",
   "metadata": {},
   "outputs": [
    {
     "name": "stdout",
     "output_type": "stream",
     "text": [
      "['HR', 'LF']\n"
     ]
    }
   ],
   "source": [
    "# Usando solo 1 paciente\n",
    "from sklearn.feature_selection import SelectFromModel\n",
    "from sklearn.ensemble import RandomForestClassifier\n",
    "\n",
    "X = data1[['RRI', 'SDNN', 'HR','HR_std','NN50','pNN50','HF','LF','Total_power','LF/HF']]\n",
    "y = data1['Seizure']\n",
    "\n",
    "# Crea un modelo de Random Forest\n",
    "random_forest = RandomForestClassifier(n_estimators=100)\n",
    "\n",
    "# Ajusta el modelo a tus datos\n",
    "random_forest.fit(X, y)\n",
    "\n",
    "# Crea un objeto SelectFromModel y establece el umbral de selección en 0.25\n",
    "sfm = SelectFromModel(random_forest, threshold=0.13)\n",
    "\n",
    "# Ajusta el objeto SelectFromModel a tus datos\n",
    "sfm.fit(X, y)\n",
    "\n",
    "# Transforma el conjunto de características original utilizando el objeto SelectFromModel\n",
    "X_selected = sfm.transform(X)\n",
    "\n",
    "# Obtiene los nombres de las características seleccionadas\n",
    "selected_feature_names = list(X.columns[sfm.get_support()])\n",
    "\n",
    "# Imprime los nombres de las características seleccionadas\n",
    "print(selected_feature_names)\n"
   ]
  },
  {
   "cell_type": "markdown",
   "id": "d7906e60",
   "metadata": {},
   "source": [
    "### AdaBoost\n",
    "\n",
    "AdaBoost is presented for binary classification\n",
    "\n",
    "primero importo el módulo `SelectFromModel` y la clase `AdaBoostClassifier` de `sklearn`. Luego, creo un modelo de AdaBoost llamado `ada_boost`, lo ajusto a mis datos y creo un objeto `SelectFromModel` llamado `sfm`. Establezco el umbral de selección en 0.5 y ajusto el objeto `sfm` a mis datos. Finalmente, utilizo el método `transform()` para obtener una nueva matriz de características que solo incluye las características cuyas importancias son superiores a 0.5.\n"
   ]
  },
  {
   "cell_type": "code",
   "execution_count": 80,
   "id": "32b28018",
   "metadata": {},
   "outputs": [
    {
     "name": "stdout",
     "output_type": "stream",
     "text": [
      "['SDNN', 'LF', 'Total_power', 'LF/HF']\n"
     ]
    }
   ],
   "source": [
    "from sklearn.feature_selection import SelectFromModel\n",
    "from sklearn.ensemble import AdaBoostClassifier\n",
    "\n",
    "X = Sample[['RRI', 'SDNN', 'HR','HR_std','NN50','pNN50','HF','LF','Total_power','LF/HF']]\n",
    "y = Sample['Seizure_1']\n",
    "\n",
    "# Crea un modelo de AdaBoost\n",
    "ada_boost = AdaBoostClassifier(n_estimators=1000)\n",
    "\n",
    "# Ajusta el modelo a tus datos\n",
    "ada_boost.fit(X, y)\n",
    "\n",
    "# Crea un objeto SelectFromModel y establece el umbral de selección en 0.5\n",
    "sfm = SelectFromModel(ada_boost, threshold=0.13)\n",
    "\n",
    "# Ajusta el objeto SelectFromModel a tus datos\n",
    "sfm.fit(X, y)\n",
    "\n",
    "# Transforma el conjunto de características original utilizando el objeto SelectFromModel\n",
    "X_selected = sfm.transform(X)\n",
    "\n",
    "# Obtiene los nombres de las características seleccionadas\n",
    "selected_feature_names = list(X.columns[sfm.get_support()])\n",
    "\n",
    "# Imprime los nombres de las características seleccionadas\n",
    "print(selected_feature_names)"
   ]
  },
  {
   "cell_type": "code",
   "execution_count": 83,
   "id": "a702ae67",
   "metadata": {},
   "outputs": [
    {
     "name": "stdout",
     "output_type": "stream",
     "text": [
      "['HF', 'Total_power', 'LF/HF']\n"
     ]
    }
   ],
   "source": [
    "from sklearn.feature_selection import SelectFromModel\n",
    "from sklearn.ensemble import AdaBoostClassifier\n",
    "\n",
    "X = Sample1[['RRI', 'SDNN', 'HR','HR_std','NN50','pNN50','HF','LF','Total_power','LF/HF']]\n",
    "y = Sample1['Seizure_1']\n",
    "\n",
    "# Crea un modelo de AdaBoost\n",
    "ada_boost = AdaBoostClassifier(n_estimators=1000)\n",
    "\n",
    "# Ajusta el modelo a tus datos\n",
    "ada_boost.fit(X, y)\n",
    "\n",
    "# Crea un objeto SelectFromModel y establece el umbral de selección en 0.5\n",
    "sfm = SelectFromModel(ada_boost, threshold=0.13)\n",
    "\n",
    "# Ajusta el objeto SelectFromModel a tus datos\n",
    "sfm.fit(X, y)\n",
    "\n",
    "# Transforma el conjunto de características original utilizando el objeto SelectFromModel\n",
    "X_selected = sfm.transform(X)\n",
    "\n",
    "# Obtiene los nombres de las características seleccionadas\n",
    "selected_feature_names = list(X.columns[sfm.get_support()])\n",
    "\n",
    "# Imprime los nombres de las características seleccionadas\n",
    "print(selected_feature_names)"
   ]
  },
  {
   "cell_type": "code",
   "execution_count": 47,
   "id": "94fd893b",
   "metadata": {},
   "outputs": [],
   "source": [
    "# Carga tus datos y divide en conjuntos de entrenamiento y prueba\n",
    "data_train, data_test = train_test_split(data , test_size=0.3, random_state=42)\n",
    "#X = data_train[['RRI', 'SDNN', 'HR','HR_std','NN50','pNN50','HF','LF','Total_power','LF/HF']]\n",
    "X = data_train[['RRI', 'SDNN', 'HR','HR_std','NN50','pNN50','HF','LF','Total_power','LF/HF']]\n",
    "Y = data_train['Seizure']"
   ]
  },
  {
   "cell_type": "code",
   "execution_count": 51,
   "id": "cbc1c1ea",
   "metadata": {},
   "outputs": [],
   "source": [
    "from sklearn.svm import SVC\n",
    "from sklearn.tree import DecisionTreeClassifier\n",
    "\n",
    "model = SVC(kernel='linear')"
   ]
  },
  {
   "cell_type": "code",
   "execution_count": 9,
   "id": "08ea0c46",
   "metadata": {},
   "outputs": [],
   "source": [
    "from sklearn.feature_selection import RFE\n",
    "from sklearn.feature_selection import RFECV\n",
    "from sklearn.svm import SVR\n",
    "\n",
    "# Crea un objeto RFE y selecciona las 5 características más importantes\n",
    "rfe = RFECV(SVR(kernel='linear'), step=1, scoring='accuracy')\n"
   ]
  },
  {
   "cell_type": "code",
   "execution_count": null,
   "id": "84a08bb1",
   "metadata": {},
   "outputs": [],
   "source": [
    "rfe = rfe.fit(X, Y)"
   ]
  },
  {
   "cell_type": "code",
   "execution_count": 43,
   "id": "24b71f5d",
   "metadata": {},
   "outputs": [
    {
     "name": "stdout",
     "output_type": "stream",
     "text": [
      "[False False  True  True False False  True  True False  True]\n",
      "[6 3 1 1 5 4 1 1 2 1]\n"
     ]
    }
   ],
   "source": [
    "# Imprime los índices de las características seleccionadas\n",
    "print(rfe.support_)\n",
    "\n",
    "# Imprime la puntuación de importancia de cada característica\n",
    "print(rfe.ranking_)"
   ]
  },
  {
   "cell_type": "code",
   "execution_count": null,
   "id": "d9b2c492",
   "metadata": {},
   "outputs": [],
   "source": []
  }
 ],
 "metadata": {
  "kernelspec": {
   "display_name": "Python 3 (ipykernel)",
   "language": "python",
   "name": "python3"
  },
  "language_info": {
   "codemirror_mode": {
    "name": "ipython",
    "version": 3
   },
   "file_extension": ".py",
   "mimetype": "text/x-python",
   "name": "python",
   "nbconvert_exporter": "python",
   "pygments_lexer": "ipython3",
   "version": "3.10.4"
  }
 },
 "nbformat": 4,
 "nbformat_minor": 5
}
