{
 "cells": [
  {
   "cell_type": "markdown",
   "id": "990514c2",
   "metadata": {},
   "source": [
    "### **1. Dispositivo de Adquisición:**\n",
    "- **Sensor:** AD8232 para medir señales electrocardiográficas.\n",
    "- **Microcontrolador:** ESP32, que recoge los valores del sensor AD8232.\n",
    "\n",
    "### **2. Transmisión de Datos:**\n",
    "- El ESP32 transmite las mediciones del ECG a AWS utilizando el protocolo MQTT.\n",
    "- Para esto, emplea **AWS IoT Core** que actúa como un broker MQTT para recibir y manejar las conexiones y mensajes.\n",
    "\n",
    "### **3. Procesamiento Intermedio y Almacenamiento:**\n",
    "- **Servicio Web:** Desarrollado en Python, se conecta al broker MQTT para leer los datos del ECG en tiempo real.\n",
    "- **Base de Datos:** Se puede utilizar para almacenar los datos de ECG, resultados del modelo y notificaciones. Dependiendo de la necesidad, se puede optar por Amazon RDS, DynamoDB o Timestream.\n",
    "\n",
    "### **4. Análisis y Predicción:**\n",
    "- El servicio web procesa las señales de ECG para obtener variables predictoras.\n",
    "- Estas variables se alimentan a un modelo de machine learning (red neuronal) que determina si se está en un período pre-ictal.\n",
    "  \n",
    "### **5. Notificación:**\n",
    "- Si el modelo predice un período pre-ictal, se envía una notificación.\n",
    "- Utilizamos **Amazon SNS (Simple Notification Service)** para enviar esta notificación a los usuarios finales, ya sea a través de SMS, email u otros medios.\n",
    "\n",
    "### **6. Alojamiento en la Nube:**\n",
    "- Todo el backend, incluido el servicio web, la base de datos y el sistema de notificación, está alojado en **AWS (Amazon Web Services)**.\n",
    "\n",
    "### **Consideraciones Adicionales:**\n",
    "- **Seguridad:** Es esencial garantizar que todas las conexiones, especialmente las que involucran la transmisión de datos sensibles, estén cifradas y protegidas. AWS IoT Core proporciona características de seguridad como la autenticación mutua.\n",
    "- **Monitoreo:** AWS proporciona herramientas como CloudWatch para monitorear y alertar sobre el comportamiento y la salud del sistema.\n",
    "- **Costos:** Es importante estar al tanto de los costos asociados con los servicios de AWS utilizados y monitorear el uso para evitar facturas inesperadas.\n",
    "\n",
    "Esta arquitectura proporciona una solución escalable y robusta para el monitoreo en tiempo real de señales de ECG y la detección temprana de eventos pre-ictales."
   ]
  },
  {
   "cell_type": "code",
   "execution_count": null,
   "id": "e47f24fb",
   "metadata": {},
   "outputs": [],
   "source": []
  }
 ],
 "metadata": {
  "kernelspec": {
   "display_name": "Python 3 (ipykernel)",
   "language": "python",
   "name": "python3"
  },
  "language_info": {
   "codemirror_mode": {
    "name": "ipython",
    "version": 3
   },
   "file_extension": ".py",
   "mimetype": "text/x-python",
   "name": "python",
   "nbconvert_exporter": "python",
   "pygments_lexer": "ipython3",
   "version": "3.10.4"
  }
 },
 "nbformat": 4,
 "nbformat_minor": 5
}
