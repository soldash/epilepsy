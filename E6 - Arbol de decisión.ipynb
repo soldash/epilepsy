{
 "cells": [
  {
   "cell_type": "code",
   "execution_count": 3,
   "id": "e142167a",
   "metadata": {},
   "outputs": [],
   "source": [
    "import pandas as pd\n",
    "import datetime as dt\n",
    "from datetime import datetime\n",
    "import matplotlib.pyplot as plt\n",
    "from scipy.signal import find_peaks"
   ]
  },
  {
   "cell_type": "code",
   "execution_count": 4,
   "id": "de9a297c",
   "metadata": {},
   "outputs": [],
   "source": [
    "mainpath = \"/Users/soldash/Documents/Tesis/python/Datos/Todas/\" #ruta de Carga de los datos\n",
    "filename = \"dataframe_concatenado.csv\" #Nombre del archivo a cargar"
   ]
  },
  {
   "cell_type": "code",
   "execution_count": 5,
   "id": "b6f41e3b",
   "metadata": {},
   "outputs": [
    {
     "data": {
      "text/html": [
       "<div>\n",
       "<style scoped>\n",
       "    .dataframe tbody tr th:only-of-type {\n",
       "        vertical-align: middle;\n",
       "    }\n",
       "\n",
       "    .dataframe tbody tr th {\n",
       "        vertical-align: top;\n",
       "    }\n",
       "\n",
       "    .dataframe thead th {\n",
       "        text-align: right;\n",
       "    }\n",
       "</style>\n",
       "<table border=\"1\" class=\"dataframe\">\n",
       "  <thead>\n",
       "    <tr style=\"text-align: right;\">\n",
       "      <th></th>\n",
       "      <th>ECG</th>\n",
       "      <th>Time</th>\n",
       "      <th>RRI</th>\n",
       "      <th>SDNN</th>\n",
       "      <th>HR</th>\n",
       "      <th>HR_std</th>\n",
       "      <th>NN50</th>\n",
       "      <th>pNN50</th>\n",
       "      <th>HF</th>\n",
       "      <th>LF</th>\n",
       "      <th>Total_power</th>\n",
       "      <th>LF_HF</th>\n",
       "      <th>Seizure_0</th>\n",
       "      <th>Seizure_1</th>\n",
       "      <th>Seizure_2</th>\n",
       "    </tr>\n",
       "  </thead>\n",
       "  <tbody>\n",
       "    <tr>\n",
       "      <th>0</th>\n",
       "      <td>-29.83</td>\n",
       "      <td>2022-07-01 13:25:21.280</td>\n",
       "      <td>680</td>\n",
       "      <td>148.360312</td>\n",
       "      <td>91</td>\n",
       "      <td>1.476621</td>\n",
       "      <td>23</td>\n",
       "      <td>53.488372</td>\n",
       "      <td>3341.061704</td>\n",
       "      <td>5328.681774</td>\n",
       "      <td>28221.219083</td>\n",
       "      <td>1.594907</td>\n",
       "      <td>0</td>\n",
       "      <td>0</td>\n",
       "      <td>1</td>\n",
       "    </tr>\n",
       "    <tr>\n",
       "      <th>1</th>\n",
       "      <td>-111.04</td>\n",
       "      <td>2022-07-01 13:25:10.500</td>\n",
       "      <td>664</td>\n",
       "      <td>194.773965</td>\n",
       "      <td>90</td>\n",
       "      <td>1.206969</td>\n",
       "      <td>23</td>\n",
       "      <td>57.500000</td>\n",
       "      <td>1405.554118</td>\n",
       "      <td>1806.423996</td>\n",
       "      <td>7091.854690</td>\n",
       "      <td>1.285204</td>\n",
       "      <td>0</td>\n",
       "      <td>0</td>\n",
       "      <td>1</td>\n",
       "    </tr>\n",
       "    <tr>\n",
       "      <th>2</th>\n",
       "      <td>-95.33</td>\n",
       "      <td>2022-07-01 13:25:16.140</td>\n",
       "      <td>832</td>\n",
       "      <td>184.431592</td>\n",
       "      <td>90</td>\n",
       "      <td>1.531681</td>\n",
       "      <td>22</td>\n",
       "      <td>52.380952</td>\n",
       "      <td>2312.004702</td>\n",
       "      <td>4062.403791</td>\n",
       "      <td>20176.263778</td>\n",
       "      <td>1.757091</td>\n",
       "      <td>0</td>\n",
       "      <td>0</td>\n",
       "      <td>1</td>\n",
       "    </tr>\n",
       "    <tr>\n",
       "      <th>3</th>\n",
       "      <td>250.32</td>\n",
       "      <td>2022-07-01 13:25:07.140</td>\n",
       "      <td>656</td>\n",
       "      <td>197.497749</td>\n",
       "      <td>89</td>\n",
       "      <td>1.136568</td>\n",
       "      <td>26</td>\n",
       "      <td>65.000000</td>\n",
       "      <td>784.287901</td>\n",
       "      <td>1629.490612</td>\n",
       "      <td>4862.066247</td>\n",
       "      <td>2.077669</td>\n",
       "      <td>0</td>\n",
       "      <td>0</td>\n",
       "      <td>1</td>\n",
       "    </tr>\n",
       "    <tr>\n",
       "      <th>4</th>\n",
       "      <td>155.67</td>\n",
       "      <td>2022-07-01 13:25:21.020</td>\n",
       "      <td>680</td>\n",
       "      <td>148.360312</td>\n",
       "      <td>91</td>\n",
       "      <td>1.496815</td>\n",
       "      <td>23</td>\n",
       "      <td>53.488372</td>\n",
       "      <td>3224.521574</td>\n",
       "      <td>5171.380043</td>\n",
       "      <td>27419.724444</td>\n",
       "      <td>1.603767</td>\n",
       "      <td>0</td>\n",
       "      <td>0</td>\n",
       "      <td>1</td>\n",
       "    </tr>\n",
       "    <tr>\n",
       "      <th>...</th>\n",
       "      <td>...</td>\n",
       "      <td>...</td>\n",
       "      <td>...</td>\n",
       "      <td>...</td>\n",
       "      <td>...</td>\n",
       "      <td>...</td>\n",
       "      <td>...</td>\n",
       "      <td>...</td>\n",
       "      <td>...</td>\n",
       "      <td>...</td>\n",
       "      <td>...</td>\n",
       "      <td>...</td>\n",
       "      <td>...</td>\n",
       "      <td>...</td>\n",
       "      <td>...</td>\n",
       "    </tr>\n",
       "    <tr>\n",
       "      <th>55465</th>\n",
       "      <td>21.31</td>\n",
       "      <td>2022-07-02 02:17:01.250</td>\n",
       "      <td>1065</td>\n",
       "      <td>0.000000</td>\n",
       "      <td>53</td>\n",
       "      <td>0.000000</td>\n",
       "      <td>0</td>\n",
       "      <td>0.000000</td>\n",
       "      <td>4952.636478</td>\n",
       "      <td>21698.600327</td>\n",
       "      <td>182813.669515</td>\n",
       "      <td>4.381222</td>\n",
       "      <td>1</td>\n",
       "      <td>0</td>\n",
       "      <td>0</td>\n",
       "    </tr>\n",
       "    <tr>\n",
       "      <th>55466</th>\n",
       "      <td>189.18</td>\n",
       "      <td>2022-07-02 02:16:55.150</td>\n",
       "      <td>975</td>\n",
       "      <td>0.000000</td>\n",
       "      <td>53</td>\n",
       "      <td>0.000000</td>\n",
       "      <td>0</td>\n",
       "      <td>0.000000</td>\n",
       "      <td>4752.324507</td>\n",
       "      <td>19376.395447</td>\n",
       "      <td>180128.880924</td>\n",
       "      <td>4.077246</td>\n",
       "      <td>1</td>\n",
       "      <td>0</td>\n",
       "      <td>0</td>\n",
       "    </tr>\n",
       "    <tr>\n",
       "      <th>55467</th>\n",
       "      <td>-370.90</td>\n",
       "      <td>2022-07-02 02:16:51.100</td>\n",
       "      <td>965</td>\n",
       "      <td>251.857703</td>\n",
       "      <td>52</td>\n",
       "      <td>0.000000</td>\n",
       "      <td>8</td>\n",
       "      <td>42.105263</td>\n",
       "      <td>4648.755726</td>\n",
       "      <td>18230.284268</td>\n",
       "      <td>163606.994916</td>\n",
       "      <td>3.921541</td>\n",
       "      <td>1</td>\n",
       "      <td>0</td>\n",
       "      <td>0</td>\n",
       "    </tr>\n",
       "    <tr>\n",
       "      <th>55468</th>\n",
       "      <td>-9.60</td>\n",
       "      <td>2022-07-02 02:16:18.300</td>\n",
       "      <td>990</td>\n",
       "      <td>391.396444</td>\n",
       "      <td>56</td>\n",
       "      <td>1.295545</td>\n",
       "      <td>7</td>\n",
       "      <td>41.176471</td>\n",
       "      <td>8546.464800</td>\n",
       "      <td>10778.759849</td>\n",
       "      <td>81108.182128</td>\n",
       "      <td>1.261195</td>\n",
       "      <td>1</td>\n",
       "      <td>0</td>\n",
       "      <td>0</td>\n",
       "    </tr>\n",
       "    <tr>\n",
       "      <th>55469</th>\n",
       "      <td>85.18</td>\n",
       "      <td>2022-07-02 02:16:37.800</td>\n",
       "      <td>1040</td>\n",
       "      <td>246.042358</td>\n",
       "      <td>52</td>\n",
       "      <td>0.000000</td>\n",
       "      <td>9</td>\n",
       "      <td>50.000000</td>\n",
       "      <td>6613.820882</td>\n",
       "      <td>22390.385050</td>\n",
       "      <td>110798.536907</td>\n",
       "      <td>3.385393</td>\n",
       "      <td>1</td>\n",
       "      <td>0</td>\n",
       "      <td>0</td>\n",
       "    </tr>\n",
       "  </tbody>\n",
       "</table>\n",
       "<p>55470 rows × 15 columns</p>\n",
       "</div>"
      ],
      "text/plain": [
       "          ECG                     Time   RRI        SDNN  HR    HR_std  NN50  \\\n",
       "0      -29.83  2022-07-01 13:25:21.280   680  148.360312  91  1.476621    23   \n",
       "1     -111.04  2022-07-01 13:25:10.500   664  194.773965  90  1.206969    23   \n",
       "2      -95.33  2022-07-01 13:25:16.140   832  184.431592  90  1.531681    22   \n",
       "3      250.32  2022-07-01 13:25:07.140   656  197.497749  89  1.136568    26   \n",
       "4      155.67  2022-07-01 13:25:21.020   680  148.360312  91  1.496815    23   \n",
       "...       ...                      ...   ...         ...  ..       ...   ...   \n",
       "55465   21.31  2022-07-02 02:17:01.250  1065    0.000000  53  0.000000     0   \n",
       "55466  189.18  2022-07-02 02:16:55.150   975    0.000000  53  0.000000     0   \n",
       "55467 -370.90  2022-07-02 02:16:51.100   965  251.857703  52  0.000000     8   \n",
       "55468   -9.60  2022-07-02 02:16:18.300   990  391.396444  56  1.295545     7   \n",
       "55469   85.18  2022-07-02 02:16:37.800  1040  246.042358  52  0.000000     9   \n",
       "\n",
       "           pNN50           HF            LF    Total_power     LF_HF  \\\n",
       "0      53.488372  3341.061704   5328.681774   28221.219083  1.594907   \n",
       "1      57.500000  1405.554118   1806.423996    7091.854690  1.285204   \n",
       "2      52.380952  2312.004702   4062.403791   20176.263778  1.757091   \n",
       "3      65.000000   784.287901   1629.490612    4862.066247  2.077669   \n",
       "4      53.488372  3224.521574   5171.380043   27419.724444  1.603767   \n",
       "...          ...          ...           ...            ...       ...   \n",
       "55465   0.000000  4952.636478  21698.600327  182813.669515  4.381222   \n",
       "55466   0.000000  4752.324507  19376.395447  180128.880924  4.077246   \n",
       "55467  42.105263  4648.755726  18230.284268  163606.994916  3.921541   \n",
       "55468  41.176471  8546.464800  10778.759849   81108.182128  1.261195   \n",
       "55469  50.000000  6613.820882  22390.385050  110798.536907  3.385393   \n",
       "\n",
       "       Seizure_0  Seizure_1  Seizure_2  \n",
       "0              0          0          1  \n",
       "1              0          0          1  \n",
       "2              0          0          1  \n",
       "3              0          0          1  \n",
       "4              0          0          1  \n",
       "...          ...        ...        ...  \n",
       "55465          1          0          0  \n",
       "55466          1          0          0  \n",
       "55467          1          0          0  \n",
       "55468          1          0          0  \n",
       "55469          1          0          0  \n",
       "\n",
       "[55470 rows x 15 columns]"
      ]
     },
     "execution_count": 5,
     "metadata": {},
     "output_type": "execute_result"
    }
   ],
   "source": [
    "data = pd.read_csv(mainpath+filename, sep=\",\")\n",
    "dummy_df = pd.get_dummies(data, columns=['Seizure'])\n",
    "dummy_df"
   ]
  },
  {
   "cell_type": "code",
   "execution_count": 6,
   "id": "9aa9cbd0",
   "metadata": {},
   "outputs": [
    {
     "name": "stdout",
     "output_type": "stream",
     "text": [
      "Tamaño de muestras preictales :18500\n"
     ]
    },
    {
     "data": {
      "text/plain": [
       "(array([18500.,     0.,     0.,     0.,     0.,     0.,     0.,     0.,\n",
       "            0., 18500.]),\n",
       " array([0. , 0.1, 0.2, 0.3, 0.4, 0.5, 0.6, 0.7, 0.8, 0.9, 1. ]),\n",
       " <BarContainer object of 10 artists>)"
      ]
     },
     "execution_count": 6,
     "metadata": {},
     "output_type": "execute_result"
    },
    {
     "data": {
      "image/png": "[encoded data removed]",
      "text/plain": [
       "<Figure size 432x288 with 1 Axes>"
      ]
     },
     "metadata": {
      "needs_background": "light"
     },
     "output_type": "display_data"
    }
   ],
   "source": [
    "#Igualar muestras\n",
    "sample_size = dummy_df[dummy_df[\"Seizure_1\"] == 1].shape[0]\n",
    "print(\"Tamaño de muestras preictales :\"+ str(sample_size))\n",
    "\n",
    "preictal = dummy_df[dummy_df[\"Seizure_1\"] == 1]\n",
    "other = dummy_df[dummy_df[\"Seizure_1\"] == 0]\n",
    "\n",
    "preictal_data = preictal.sample(n= sample_size)\n",
    "other_data = other.sample(n= sample_size)\n",
    "    \n",
    "Sample = pd.concat([preictal_data, other_data], axis = 0)\n",
    "\n",
    "plt.hist(Sample[\"Seizure_1\"])"
   ]
  },
  {
   "cell_type": "code",
   "execution_count": 8,
   "id": "ccdb07b5",
   "metadata": {},
   "outputs": [
    {
     "name": "stdout",
     "output_type": "stream",
     "text": [
      "Mejor Estimador: DecisionTreeClassifier(max_depth=20, min_samples_leaf=5, min_samples_split=10)\n",
      "Precisión: 0.9847027027027027\n",
      "              precision    recall  f1-score   support\n",
      "\n",
      "           0       0.98      0.99      0.98      9256\n",
      "           1       0.99      0.98      0.98      9244\n",
      "\n",
      "    accuracy                           0.98     18500\n",
      "   macro avg       0.98      0.98      0.98     18500\n",
      "weighted avg       0.98      0.98      0.98     18500\n",
      "\n"
     ]
    }
   ],
   "source": [
    "# Importando las bibliotecas necesarias\n",
    "import numpy as np\n",
    "from sklearn.tree import DecisionTreeClassifier\n",
    "from sklearn.model_selection import GridSearchCV\n",
    "from sklearn.model_selection import train_test_split\n",
    "from sklearn.metrics import accuracy_score\n",
    "from sklearn.metrics import classification_report\n",
    "\n",
    "X = Sample[['RRI', 'SDNN', 'HR','HR_std','NN50','pNN50','HF','LF','Total_power','LF_HF']]\n",
    "y = Sample['Seizure_1']\n",
    "\n",
    "# Definir cuadrícula de parámetros\n",
    "param_grid = {\n",
    "    'criterion': ['gini', 'entropy'],\n",
    "    'max_depth': [10, 20],  # Valores más específicos\n",
    "    'min_samples_split': [10, 20, 50, 100],  # Mínimo de 10 muestras para considerar una división\n",
    "    'min_samples_leaf': [5, 10, 20, 40]  # Mínimo de 5 muestras en una hoja\n",
    "}\n",
    "\n",
    "# Dividiendo los datos en conjuntos de entrenamiento y prueba\n",
    "# Esto es útil para evaluar cómo se desempeñará tu modelo en datos no vistos\n",
    "X_train, X_test, y_train, y_test = train_test_split(X, y, test_size=0.5, random_state=42)\n",
    "\n",
    "# Búsqueda en cuadrícula\n",
    "grid_search = GridSearchCV(DecisionTreeClassifier(), param_grid, cv=5, scoring='accuracy', n_jobs=-1)\n",
    "grid_search.fit(X_train, y_train)\n",
    "\n",
    "# Usar el mejor modelo para predecir\n",
    "best_tree = grid_search.best_estimator_\n",
    "y_pred = best_tree.predict(X_test)\n",
    "\n",
    "# Evaluación del rendimiento del modelo\n",
    "print(\"Mejor Estimador:\", best_tree)\n",
    "print(\"Precisión:\", accuracy_score(y_test, y_pred))\n",
    "print(classification_report(y_test, y_pred))\n"
   ]
  },
  {
   "cell_type": "markdown",
   "id": "44bb07b0",
   "metadata": {},
   "source": [
    "Vamos a descomponer los resultados has obtenido:\n",
    "\n",
    "1. **Mejor Estimador**:\n",
    "   - `DecisionTreeClassifier(criterion='entropy', max_depth=40, min_samples_leaf=5, min_samples_split=10)`\n",
    "   \n",
    "   Esto describe el modelo de árbol de decisión que mejor se desempeñó durante el proceso de ajuste de hiperparámetros. Las características del modelo son:\n",
    "   \n",
    "   - **criterion**: 'entropy' - Esta es la métrica que el árbol utilizó para tomar decisiones sobre cómo dividir los datos. La entropía es una métrica que mide el desorden o la impureza de un conjunto de datos.\n",
    "   - **max_depth**: 40 - Profundidad máxima del árbol. Un árbol con una profundidad de 40 podría considerarse bastante profundo, aunque esto puede ser necesario para modelos complejos.\n",
    "   - **min_samples_leaf**: 5 - El número mínimo de muestras requeridas para ser una hoja. Esto ayuda a prevenir el sobreajuste, asegurando que al menos 5 muestras estén en un nodo hoja.\n",
    "   - **min_samples_split**: 10 - El número mínimo de muestras requeridas para dividir un nodo interno.\n",
    "\n",
    "2. **Precisión**: \n",
    "   - `0.9638492871690427` \n",
    "   \n",
    "   La precisión global del modelo en el conjunto de prueba es aproximadamente del 96.38%. Es una métrica bastante alta, lo que sugiere que el modelo tiene un buen rendimiento.\n",
    "\n",
    "3. **Reporte de clasificación**: \n",
    "   - Para la clase 0 (no preictales):\n",
    "     - **Precisión**: 0.97 - De todas las predicciones que el modelo hizo como clase 0, el 97% fueron correctas.\n",
    "     - **Recall (Sensibilidad)**: 0.96 - De todos los verdaderos valores de clase 0 en el conjunto de prueba, el modelo predijo correctamente el 96%.\n",
    "     - **f1-score**: 0.96 - Es una métrica que combina precisión y recall en una única métrica. Cuanto más cerca de 1, mejor.\n",
    "   \n",
    "   - Para la clase 1 (preictales):\n",
    "     - **Precisión**: 0.96\n",
    "     - **Recall**: 0.97\n",
    "     - **f1-score**: 0.96\n",
    "\n",
    "   Las métricas **macro avg** y **weighted avg** son promedios de las métricas para ambas clases. En este caso, tanto el promedio macro como el promedio ponderado para precisión, recall y f1-score son aproximadamente del 96%, lo que indica un rendimiento uniforme a través de ambas clases.\n",
    "\n",
    "**Interpretación general**:\n",
    "\n",
    "El modelo de árbol de decisión que has entrenado parece tener un rendimiento muy alto con una precisión de aproximadamente el 96.38%. Ambas clases, preictales y no preictales, son predichas con una precisión y recall muy altos, lo que indica que el modelo es capaz de identificar adecuadamente ambas condiciones. La elección de usar la entropía como criterio y los valores específicos para `max_depth`, `min_samples_leaf` y `min_samples_split` parecen haber sido adecuados para este conjunto de datos."
   ]
  },
  {
   "cell_type": "code",
   "execution_count": 21,
   "id": "f54a1d28",
   "metadata": {},
   "outputs": [
    {
     "name": "stdout",
     "output_type": "stream",
     "text": [
      "Número de características: 10\n"
     ]
    },
    {
     "name": "stderr",
     "output_type": "stream",
     "text": [
      "/Library/Frameworks/Python.framework/Versions/3.10/lib/python3.10/site-packages/sklearn/utils/deprecation.py:103: FutureWarning: The attribute `n_features_` is deprecated in 1.0 and will be removed in 1.2. Use `n_features_in_` instead.\n",
      "  warnings.warn(msg, category=FutureWarning)\n"
     ]
    }
   ],
   "source": [
    "print(\"Número de características:\", best_tree.n_features_)"
   ]
  },
  {
   "cell_type": "code",
   "execution_count": 9,
   "id": "b381575d",
   "metadata": {},
   "outputs": [
    {
     "name": "stdout",
     "output_type": "stream",
     "text": [
      "Accuracy de Entrenamiento: 0.9915675675675676\n"
     ]
    }
   ],
   "source": [
    "# Predice las etiquetas para el conjunto de entrenamiento\n",
    "y_train_pred = best_tree.predict(X_train)\n",
    "\n",
    "# Calcula y muestra el accuracy de entrenamiento\n",
    "train_accuracy = accuracy_score(y_train, y_train_pred)\n",
    "print(f\"Accuracy de Entrenamiento: {train_accuracy}\")\n"
   ]
  },
  {
   "cell_type": "code",
   "execution_count": 10,
   "id": "93a59492",
   "metadata": {},
   "outputs": [
    {
     "data": {
      "image/png": "[encoded data removed]",
      "text/plain": [
       "<Figure size 504x360 with 2 Axes>"
      ]
     },
     "metadata": {
      "needs_background": "light"
     },
     "output_type": "display_data"
    }
   ],
   "source": [
    "import seaborn as sns\n",
    "from sklearn.metrics import confusion_matrix\n",
    "\n",
    "# Crear la matriz de confusión\n",
    "cm = confusion_matrix(y_test, y_pred)\n",
    "\n",
    "# Convertir la matriz de confusión a DataFrame para etiquetar fácilmente los ejes\n",
    "cm_df = pd.DataFrame(cm, index=['Real 0', 'Real 1'], columns=['Predicción 0', 'Predicción 1'])\n",
    "\n",
    "plt.figure(figsize=(7,5))\n",
    "sns.heatmap(cm_df, annot=True, cmap=\"YlGnBu\", fmt=\"g\")  # fmt=\"g\" para evitar notación científica\n",
    "plt.title('Matriz de Confusión')\n",
    "plt.ylabel('Etiquetas Verdaderas')\n",
    "plt.xlabel('Etiquetas Predichas')\n",
    "plt.show()"
   ]
  },
  {
   "cell_type": "code",
   "execution_count": 11,
   "id": "ac37a38d",
   "metadata": {},
   "outputs": [
    {
     "ename": "AttributeError",
     "evalue": "'DecisionTreeClassifier' object has no attribute 'save'",
     "output_type": "error",
     "traceback": [
      "\u001b[0;31m---------------------------------------------------------------------------\u001b[0m",
      "\u001b[0;31mAttributeError\u001b[0m                            Traceback (most recent call last)",
      "Input \u001b[0;32mIn [11]\u001b[0m, in \u001b[0;36m<cell line: 3>\u001b[0;34m()\u001b[0m\n\u001b[1;32m      1\u001b[0m model_name \u001b[38;5;241m=\u001b[39m \u001b[38;5;124m\"\u001b[39m\u001b[38;5;124marbol\u001b[39m\u001b[38;5;124m\"\u001b[39m\n\u001b[1;32m      2\u001b[0m model_path \u001b[38;5;241m=\u001b[39m \u001b[38;5;124m'\u001b[39m\u001b[38;5;124msaved_model/\u001b[39m\u001b[38;5;132;01m{}\u001b[39;00m\u001b[38;5;124m/00000001\u001b[39m\u001b[38;5;124m'\u001b[39m\u001b[38;5;241m.\u001b[39mformat(model_name)\n\u001b[0;32m----> 3\u001b[0m \u001b[43mbest_tree\u001b[49m\u001b[38;5;241;43m.\u001b[39;49m\u001b[43msave\u001b[49m(model_path)\n",
      "\u001b[0;31mAttributeError\u001b[0m: 'DecisionTreeClassifier' object has no attribute 'save'"
     ]
    }
   ],
   "source": [
    "model_name = \"arbol\"\n",
    "model_path = 'saved_model/{}/00000001'.format(model_name)\n",
    "best_tree.save(model_path)"
   ]
  },
  {
   "cell_type": "code",
   "execution_count": 12,
   "id": "ca8e1747",
   "metadata": {},
   "outputs": [
    {
     "data": {
      "text/plain": [
       "['decision_tree_model.pkl']"
      ]
     },
     "execution_count": 12,
     "metadata": {},
     "output_type": "execute_result"
    }
   ],
   "source": [
    "from joblib import dump\n",
    "\n",
    "# Guarda el modelo en un archivo\n",
    "dump(best_tree, 'decision_tree_model.pkl')"
   ]
  },
  {
   "cell_type": "code",
   "execution_count": 17,
   "id": "fa4e8f5f",
   "metadata": {},
   "outputs": [],
   "source": [
    "import boto3\n",
    "\n",
    "s3 = boto3.resource('s3')\n",
    "bucket_name = 'decisiontreee'\n",
    "model_key = 'model/decision_tree_model.tar.gz'\n",
    "\n",
    "s3.Bucket(bucket_name).upload_file('decision_tree_model.tar.gz', model_key)"
   ]
  },
  {
   "cell_type": "code",
   "execution_count": 23,
   "id": "7b201794",
   "metadata": {},
   "outputs": [
    {
     "name": "stdout",
     "output_type": "stream",
     "text": [
      "----!"
     ]
    }
   ],
   "source": [
    "import sagemaker\n",
    "from sagemaker import get_execution_role\n",
    "from sagemaker.sklearn.model import SKLearnModel\n",
    "\n",
    "role = 'arn:aws:iam::027331693661:role/Modelv2'  # Obtiene el rol de ejecución de SageMaker\n",
    "\n",
    "# Crea un modelo SageMaker\n",
    "model = SKLearnModel(\n",
    "    model_data='s3://{}/{}'.format(bucket_name, model_key),\n",
    "    role=role,\n",
    "    entry_point='inference_script.py',  # Necesitas escribir un script de inferencia\n",
    "    framework_version='0.23-1'\n",
    ")\n",
    "\n",
    "# Desplegar el modelo\n",
    "predictor = model.deploy(\n",
    "    instance_type='ml.m5.large',\n",
    "    initial_instance_count=1\n",
    ")\n"
   ]
  },
  {
   "cell_type": "code",
   "execution_count": null,
   "id": "b27dae77",
   "metadata": {},
   "outputs": [],
   "source": []
  }
 ],
 "metadata": {
  "kernelspec": {
   "display_name": "Python 3 (ipykernel)",
   "language": "python",
   "name": "python3"
  },
  "language_info": {
   "codemirror_mode": {
    "name": "ipython",
    "version": 3
   },
   "file_extension": ".py",
   "mimetype": "text/x-python",
   "name": "python",
   "nbconvert_exporter": "python",
   "pygments_lexer": "ipython3",
   "version": "3.10.4"
  }
 },
 "nbformat": 4,
 "nbformat_minor": 5
}
